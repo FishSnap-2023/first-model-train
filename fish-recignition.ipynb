{
 "cells": [
  {
   "cell_type": "code",
   "execution_count": 30,
   "id": "6f3b2092",
   "metadata": {},
   "outputs": [],
   "source": [
    "#importing libraries"
   ]
  },
  {
   "cell_type": "code",
   "execution_count": 31,
   "id": "584ed384",
   "metadata": {},
   "outputs": [],
   "source": [
    "import numpy as np\n",
    "import tensorflow as tf\n",
    "from keras.preprocessing.image import ImageDataGenerator"
   ]
  },
  {
   "cell_type": "code",
   "execution_count": 32,
   "id": "f7a87d3f",
   "metadata": {},
   "outputs": [],
   "source": [
    "#Data Preprocessing"
   ]
  },
  {
   "cell_type": "code",
   "execution_count": 33,
   "id": "a85395c0",
   "metadata": {},
   "outputs": [],
   "source": [
    "#Tranning Image Processing"
   ]
  },
  {
   "cell_type": "code",
   "execution_count": 34,
   "id": "9b6cdd74",
   "metadata": {},
   "outputs": [
    {
     "name": "stdout",
     "output_type": "stream",
     "text": [
      "Found 8791 images belonging to 31 classes.\n"
     ]
    }
   ],
   "source": [
    "train_datagen = ImageDataGenerator(\n",
    "        rescale=1./255,\n",
    "        shear_range=0.2,\n",
    "        zoom_range=0.2,\n",
    "        horizontal_flip=True)\n",
    "training_set = train_datagen.flow_from_directory(\n",
    "        'train',\n",
    "        target_size=(64, 64),\n",
    "        batch_size=32,\n",
    "        class_mode='categorical')"
   ]
  },
  {
   "cell_type": "code",
   "execution_count": 35,
   "id": "6904a057",
   "metadata": {},
   "outputs": [],
   "source": [
    "#Test Image Processing"
   ]
  },
  {
   "cell_type": "code",
   "execution_count": 36,
   "id": "a08bfca3",
   "metadata": {},
   "outputs": [
    {
     "name": "stdout",
     "output_type": "stream",
     "text": [
      "Found 1760 images belonging to 31 classes.\n"
     ]
    }
   ],
   "source": [
    "test_datagen = ImageDataGenerator(rescale=1./255)\n",
    "test_set = test_datagen.flow_from_directory('test',target_size=(64, 64),batch_size=32,class_mode='categorical')"
   ]
  },
  {
   "cell_type": "code",
   "execution_count": 37,
   "id": "18cf90f6",
   "metadata": {},
   "outputs": [],
   "source": [
    "#Building Model"
   ]
  },
  {
   "cell_type": "code",
   "execution_count": 38,
   "id": "809adcda",
   "metadata": {},
   "outputs": [],
   "source": [
    "cnn = tf.keras.models.Sequential()"
   ]
  },
  {
   "cell_type": "code",
   "execution_count": 39,
   "id": "fdcd4ae1",
   "metadata": {},
   "outputs": [],
   "source": [
    "#Building Convelutional layer"
   ]
  },
  {
   "cell_type": "code",
   "execution_count": 40,
   "id": "7307da99",
   "metadata": {},
   "outputs": [],
   "source": [
    "cnn.add(tf.keras.layers.Conv2D(filters=64 , kernel_size=3 , activation='relu' , input_shape=[64,64,3]))"
   ]
  },
  {
   "cell_type": "code",
   "execution_count": 41,
   "id": "5dbfe878",
   "metadata": {},
   "outputs": [],
   "source": [
    "#Pooling Layer"
   ]
  },
  {
   "cell_type": "code",
   "execution_count": 42,
   "id": "a86f4aee",
   "metadata": {},
   "outputs": [],
   "source": [
    "cnn.add(tf.keras.layers.MaxPool2D(pool_size=2,strides=2))"
   ]
  },
  {
   "cell_type": "code",
   "execution_count": 43,
   "id": "4c792c32",
   "metadata": {},
   "outputs": [],
   "source": [
    "#adding layers two-time to get more accuracy"
   ]
  },
  {
   "cell_type": "code",
   "execution_count": 44,
   "id": "a3c6a443",
   "metadata": {},
   "outputs": [],
   "source": [
    "cnn.add(tf.keras.layers.Conv2D(filters=64 , kernel_size=3 , activation='relu'))"
   ]
  },
  {
   "cell_type": "code",
   "execution_count": 45,
   "id": "9ac02252",
   "metadata": {},
   "outputs": [],
   "source": [
    "cnn.add(tf.keras.layers.MaxPool2D(pool_size=2,strides=2))"
   ]
  },
  {
   "cell_type": "code",
   "execution_count": 46,
   "id": "2e3476a3",
   "metadata": {},
   "outputs": [],
   "source": [
    "cnn.add(tf.keras.layers.Dropout(0.5))"
   ]
  },
  {
   "cell_type": "code",
   "execution_count": 47,
   "id": "459821de",
   "metadata": {},
   "outputs": [],
   "source": [
    "cnn.add(tf.keras.layers.Flatten())"
   ]
  },
  {
   "cell_type": "code",
   "execution_count": 48,
   "id": "8ea1af6c",
   "metadata": {},
   "outputs": [],
   "source": [
    "#addinh hidden layer"
   ]
  },
  {
   "cell_type": "code",
   "execution_count": 49,
   "id": "b85c14c4",
   "metadata": {},
   "outputs": [],
   "source": [
    "cnn.add(tf.keras.layers.Dense(units=128,activation='relu'))"
   ]
  },
  {
   "cell_type": "code",
   "execution_count": 50,
   "id": "94c70cf0",
   "metadata": {},
   "outputs": [],
   "source": [
    "#adding output layer"
   ]
  },
  {
   "cell_type": "code",
   "execution_count": 54,
   "id": "c6067bfd",
   "metadata": {},
   "outputs": [],
   "source": [
    "cnn.add(tf.keras.layers.Dense(units=31,activation='softmax'))"
   ]
  },
  {
   "cell_type": "code",
   "execution_count": 55,
   "id": "993bc4cd",
   "metadata": {},
   "outputs": [],
   "source": [
    "cnn.compile(optimizer = 'rmsprop' , loss = 'categorical_crossentropy' , metrics = ['accuracy'])"
   ]
  },
  {
   "cell_type": "code",
   "execution_count": 56,
   "id": "e2ad3765",
   "metadata": {},
   "outputs": [
    {
     "name": "stdout",
     "output_type": "stream",
     "text": [
      "Epoch 1/30\n",
      "275/275 [==============================] - 231s 834ms/step - loss: 3.3574 - accuracy: 0.1343 - val_loss: 3.2868 - val_accuracy: 0.1483\n",
      "Epoch 2/30\n",
      "275/275 [==============================] - 151s 550ms/step - loss: 3.2527 - accuracy: 0.1503 - val_loss: 3.2045 - val_accuracy: 0.1562\n",
      "Epoch 3/30\n",
      "275/275 [==============================] - 227s 827ms/step - loss: 3.1882 - accuracy: 0.1614 - val_loss: 3.1330 - val_accuracy: 0.2006\n",
      "Epoch 4/30\n",
      "275/275 [==============================] - 124s 453ms/step - loss: 3.1287 - accuracy: 0.1829 - val_loss: 3.0796 - val_accuracy: 0.1943\n",
      "Epoch 5/30\n",
      "275/275 [==============================] - 141s 512ms/step - loss: 3.0813 - accuracy: 0.1891 - val_loss: 3.0617 - val_accuracy: 0.1966\n",
      "Epoch 6/30\n",
      "275/275 [==============================] - 130s 472ms/step - loss: 3.0317 - accuracy: 0.1949 - val_loss: 2.9800 - val_accuracy: 0.2062\n",
      "Epoch 7/30\n",
      "275/275 [==============================] - 483s 2s/step - loss: 2.9901 - accuracy: 0.1999 - val_loss: 2.9445 - val_accuracy: 0.2045\n",
      "Epoch 8/30\n",
      "275/275 [==============================] - 240s 871ms/step - loss: 2.9558 - accuracy: 0.2003 - val_loss: 2.9901 - val_accuracy: 0.1949\n",
      "Epoch 9/30\n",
      "275/275 [==============================] - 168s 613ms/step - loss: 2.9168 - accuracy: 0.2027 - val_loss: 2.9296 - val_accuracy: 0.1909\n",
      "Epoch 10/30\n",
      "275/275 [==============================] - 122s 444ms/step - loss: 2.8765 - accuracy: 0.2023 - val_loss: 2.8195 - val_accuracy: 0.2142\n",
      "Epoch 11/30\n",
      "275/275 [==============================] - 129s 468ms/step - loss: 2.8334 - accuracy: 0.2074 - val_loss: 2.8773 - val_accuracy: 0.2028\n",
      "Epoch 12/30\n",
      "275/275 [==============================] - 140s 508ms/step - loss: 2.7912 - accuracy: 0.2110 - val_loss: 2.7339 - val_accuracy: 0.2313\n",
      "Epoch 13/30\n",
      "275/275 [==============================] - 144s 525ms/step - loss: 2.7523 - accuracy: 0.2227 - val_loss: 2.7143 - val_accuracy: 0.2290\n",
      "Epoch 14/30\n",
      "275/275 [==============================] - 123s 447ms/step - loss: 2.7113 - accuracy: 0.2299 - val_loss: 2.6179 - val_accuracy: 0.2574\n",
      "Epoch 15/30\n",
      "275/275 [==============================] - 116s 420ms/step - loss: 2.6837 - accuracy: 0.2439 - val_loss: 2.5707 - val_accuracy: 0.2699\n",
      "Epoch 16/30\n",
      "275/275 [==============================] - 123s 447ms/step - loss: 2.6510 - accuracy: 0.2499 - val_loss: 2.5928 - val_accuracy: 0.2597\n",
      "Epoch 17/30\n",
      "275/275 [==============================] - 116s 424ms/step - loss: 2.6252 - accuracy: 0.2606 - val_loss: 2.5180 - val_accuracy: 0.2727\n",
      "Epoch 18/30\n",
      "275/275 [==============================] - 109s 398ms/step - loss: 2.5819 - accuracy: 0.2681 - val_loss: 2.4896 - val_accuracy: 0.2767\n",
      "Epoch 19/30\n",
      "275/275 [==============================] - 134s 488ms/step - loss: 2.5615 - accuracy: 0.2708 - val_loss: 2.4621 - val_accuracy: 0.2886\n",
      "Epoch 20/30\n",
      "275/275 [==============================] - 130s 473ms/step - loss: 2.5323 - accuracy: 0.2768 - val_loss: 2.5029 - val_accuracy: 0.2812\n",
      "Epoch 21/30\n",
      "275/275 [==============================] - 128s 466ms/step - loss: 2.5071 - accuracy: 0.2801 - val_loss: 2.4251 - val_accuracy: 0.2892\n",
      "Epoch 22/30\n",
      "275/275 [==============================] - 120s 435ms/step - loss: 2.4783 - accuracy: 0.2831 - val_loss: 2.4021 - val_accuracy: 0.2898\n",
      "Epoch 23/30\n",
      "275/275 [==============================] - 123s 449ms/step - loss: 2.4607 - accuracy: 0.2890 - val_loss: 2.4104 - val_accuracy: 0.2892\n",
      "Epoch 24/30\n",
      "275/275 [==============================] - 128s 464ms/step - loss: 2.4400 - accuracy: 0.2905 - val_loss: 2.3363 - val_accuracy: 0.2983\n",
      "Epoch 25/30\n",
      "275/275 [==============================] - 128s 465ms/step - loss: 2.4171 - accuracy: 0.2936 - val_loss: 2.3469 - val_accuracy: 0.2972\n",
      "Epoch 26/30\n",
      "275/275 [==============================] - 127s 461ms/step - loss: 2.3992 - accuracy: 0.3008 - val_loss: 2.3266 - val_accuracy: 0.2989\n",
      "Epoch 27/30\n",
      "275/275 [==============================] - 136s 494ms/step - loss: 2.3694 - accuracy: 0.3059 - val_loss: 2.3093 - val_accuracy: 0.3080\n",
      "Epoch 28/30\n",
      "275/275 [==============================] - 133s 484ms/step - loss: 2.3433 - accuracy: 0.3105 - val_loss: 2.2876 - val_accuracy: 0.3011\n",
      "Epoch 29/30\n",
      "275/275 [==============================] - 117s 425ms/step - loss: 2.3274 - accuracy: 0.3096 - val_loss: 2.2608 - val_accuracy: 0.3119\n",
      "Epoch 30/30\n",
      "275/275 [==============================] - 121s 441ms/step - loss: 2.3201 - accuracy: 0.3124 - val_loss: 2.2624 - val_accuracy: 0.3131\n"
     ]
    },
    {
     "data": {
      "text/plain": [
       "<keras.src.callbacks.History at 0x1e39d5bed50>"
      ]
     },
     "execution_count": 56,
     "metadata": {},
     "output_type": "execute_result"
    }
   ],
   "source": [
    "cnn.fit(x = training_set , validation_data = test_set , epochs = 30)"
   ]
  },
  {
   "cell_type": "code",
   "execution_count": null,
   "id": "89528544",
   "metadata": {},
   "outputs": [],
   "source": []
  }
 ],
 "metadata": {
  "kernelspec": {
   "display_name": "Python 3 (ipykernel)",
   "language": "python",
   "name": "python3"
  },
  "language_info": {
   "codemirror_mode": {
    "name": "ipython",
    "version": 3
   },
   "file_extension": ".py",
   "mimetype": "text/x-python",
   "name": "python",
   "nbconvert_exporter": "python",
   "pygments_lexer": "ipython3",
   "version": "3.11.5"
  }
 },
 "nbformat": 4,
 "nbformat_minor": 5
}
